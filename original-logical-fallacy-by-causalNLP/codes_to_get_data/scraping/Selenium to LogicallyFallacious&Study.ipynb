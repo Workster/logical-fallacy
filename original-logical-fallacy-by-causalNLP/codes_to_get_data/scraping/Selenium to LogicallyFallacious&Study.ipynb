{
 "cells": [
  {
   "cell_type": "code",
   "execution_count": 11,
   "metadata": {},
   "outputs": [],
   "source": [
    "source_url,test_name,grade,sentence, LFT=[],[],[],[],[]\n",
    "total_links = []"
   ]
  },
  {
   "cell_type": "code",
   "execution_count": 12,
   "metadata": {},
   "outputs": [],
   "source": [
    "import pandas as pd\n",
    "import numpy as np\n",
    "\n",
    "def load_csv(csv_path):\n",
    "    global source_url,test_name,grade,sentence, LFT\n",
    "    datas = pd.read_csv(csv_path)\n",
    "    datas_array = np.array(datas)\n",
    "    source_url += datas_array[:,1].tolist()\n",
    "    test_name += datas_array[:,2].tolist()\n",
    "    grade += datas_array[:,3].tolist()\n",
    "    LFT += datas_array[:,4].tolist()\n",
    "    sentence += datas_array[:,5].tolist()\n",
    "\n",
    "load_csv('data.csv')\n",
    "load_csv('data233.csv')"
   ]
  },
  {
   "cell_type": "code",
   "execution_count": 14,
   "metadata": {},
   "outputs": [],
   "source": [
    "total_links = list(set(source_url))"
   ]
  },
  {
   "cell_type": "code",
   "execution_count": 28,
   "metadata": {},
   "outputs": [
    {
     "data": {
      "text/plain": [
       "38278"
      ]
     },
     "execution_count": 28,
     "metadata": {},
     "output_type": "execute_result"
    }
   ],
   "source": [
    "len(source_url)"
   ]
  },
  {
   "cell_type": "code",
   "execution_count": 1,
   "metadata": {},
   "outputs": [],
   "source": [
    "from selenium import webdriver\n",
    "driver = webdriver.Chrome(executable_path=r\"D:\\cogito\\chromedriver.exe\")"
   ]
  },
  {
   "cell_type": "code",
   "execution_count": 6,
   "metadata": {},
   "outputs": [
    {
     "data": {
      "text/plain": [
       "1"
      ]
     },
     "execution_count": 6,
     "metadata": {},
     "output_type": "execute_result"
    }
   ],
   "source": [
    "len(driver.find_elements_by_class_name('list-group'))"
   ]
  },
  {
   "cell_type": "code",
   "execution_count": 2,
   "metadata": {},
   "outputs": [],
   "source": [
    "driver.get('https://www.logicallyfallacious.com/logicalfallacies/Wishful-Thinking')"
   ]
  },
  {
   "cell_type": "code",
   "execution_count": 81,
   "metadata": {},
   "outputs": [],
   "source": [
    "def open_answer(driver):\n",
    "    answer_button = driver.find_element_by_class_name('show-answers-btn')\n",
    "    button_status = answer_button.find_element_by_class_name('far').get_attribute('class')\n",
    "    if button_status == 'far fa-eye':\n",
    "        answer_button.click()\n",
    "open_answer(driver)"
   ]
  },
  {
   "cell_type": "code",
   "execution_count": 3,
   "metadata": {},
   "outputs": [
    {
     "ename": "NameError",
     "evalue": "name 'get_single_driver' is not defined",
     "output_type": "error",
     "traceback": [
      "\u001b[1;31m---------------------------------------------------------------------------\u001b[0m",
      "\u001b[1;31mNameError\u001b[0m                                 Traceback (most recent call last)",
      "\u001b[1;32m<ipython-input-3-4989862dc5e0>\u001b[0m in \u001b[0;36m<module>\u001b[1;34m\u001b[0m\n\u001b[0;32m     15\u001b[0m     \u001b[1;32mreturn\u001b[0m \u001b[0manswer\u001b[0m\u001b[1;33m\u001b[0m\u001b[1;33m\u001b[0m\u001b[0m\n\u001b[0;32m     16\u001b[0m \u001b[1;33m\u001b[0m\u001b[0m\n\u001b[1;32m---> 17\u001b[1;33m \u001b[0mget_single_driver\u001b[0m\u001b[1;33m(\u001b[0m\u001b[0mdriver\u001b[0m\u001b[1;33m)\u001b[0m\u001b[1;33m\u001b[0m\u001b[1;33m\u001b[0m\u001b[0m\n\u001b[0m",
      "\u001b[1;31mNameError\u001b[0m: name 'get_single_driver' is not defined"
     ]
    }
   ],
   "source": [
    "def get_single_driver233(driver):\n",
    "    open_answer(driver)\n",
    "        \n",
    "    questions = driver.find_elements_by_class_name('question')\n",
    "    answer = []\n",
    "    for question in questions:\n",
    "        text = [i.text for i in question.find_elements_by_class_name('query')]\n",
    "        foptions = question.find_elements_by_class_name('text-only-option')\n",
    "        foptions = [i.text for i in foptions if i.find_element_by_class_name('option-marker').get_attribute('class') == 'option-marker true']\n",
    "        if (len(foptions)==0):\n",
    "            foptions = [i.text for i in question.find_elements_by_class_name('text')]\n",
    "        if len(text)==1 and len(foptions)>=1:\n",
    "            answer.append([text[0],' & '.join(foptions)])\n",
    "    \n",
    "    return answer\n",
    "    \n",
    "get_single_driver(driver)"
   ]
  },
  {
   "cell_type": "code",
   "execution_count": 6,
   "metadata": {},
   "outputs": [
    {
     "data": {
      "text/plain": [
       "\"Question:\\nTom's SUV rolled over. SUV's are dangerous. This best illustrates which fallacy?\\nFallacies\\nFallacies are erroneous arguments that conduct to a wrong logical conclusion. They do not prove things but instead, make it appear correct. The same applies to the opposite, where correct statements are not actually disproved but are only made to appear wrong.\\nAnswer and Explanation:\\n\\nThe Fallacy of Hasty Generalization is getting a conclusion based on a small sample size, instead of considering sample sizes that are much more considerable with the situation. It infers that if A is taken from B, where A is a very small part of B, then the property of A automatically applies to all B.\\nHelp improve Study.com. Report an Error\""
      ]
     },
     "execution_count": 6,
     "metadata": {},
     "output_type": "execute_result"
    }
   ],
   "source": [
    "driver.find_element_by_class_name('wikiContent').text"
   ]
  },
  {
   "cell_type": "code",
   "execution_count": 7,
   "metadata": {},
   "outputs": [],
   "source": [
    "def process_str_data(str_data):\n",
    "    str_data_list = str_data.split('\\n')\n",
    "    now_str = ''\n",
    "    pair_list = []\n",
    "    flag=1\n",
    "    for i in str_data_list:\n",
    "        if (':' in i):\n",
    "            if (now_str!=''):\n",
    "                if (tuple(now_str.split(':'))[0]=='Description' or tuple(now_str.split(':'))[0]=='(also known as') and flag == 1:\n",
    "                    flag=0\n",
    "                    pair_list=[]\n",
    "                pair_list.append(tuple(now_str.split(':')))\n",
    "                now_str = i\n",
    "            else:\n",
    "                now_str = i\n",
    "        else:\n",
    "            if (now_str == ''):\n",
    "                now_str=i\n",
    "            else:\n",
    "                now_str+='\\n'+i\n",
    "    pair_list.append(tuple(now_str.split(':')))\n",
    "    return pair_list"
   ]
  },
  {
   "cell_type": "code",
   "execution_count": 11,
   "metadata": {},
   "outputs": [],
   "source": [
    "def calc_text(text):\n",
    "    while (len(text)!=0 and text[0]=='\\n'):\n",
    "        text=text[1:]\n",
    "    return text\n",
    "def generate_dict(q, a, url):\n",
    "    return {'Url':url,'Question':calc_text(question), 'Answer':label, 'ExtraInfo':None}"
   ]
  },
  {
   "cell_type": "code",
   "execution_count": 7,
   "metadata": {},
   "outputs": [
    {
     "data": {
      "text/plain": [
       "'23333'"
      ]
     },
     "execution_count": 7,
     "metadata": {},
     "output_type": "execute_result"
    }
   ],
   "source": [
    "calc_text('\\n23333')process_str_data(driver.find_element_by_class_name('mx-auto').text)"
   ]
  },
  {
   "cell_type": "code",
   "execution_count": 46,
   "metadata": {},
   "outputs": [
    {
     "data": {
      "text/plain": [
       "[('Question', '\\nWhat are examples of the division fallacy?'),\n",
       " ('The Fallacy of Division',\n",
       "  \"\\nThe fallacy of division is an informal logical fallacy in which one reasons that a fact which is true for an entire group must be true for each of that group's parts. The division fallacy is the opposite of the fallacy of composition.\"),\n",
       " ('Answer and Explanation', ''),\n",
       " ('An example of the fallacy of division would be something like',\n",
       "  ' \"People from France eat a lot of cheese. Pierre is from France. Therefore, Pierre eats a lot of cheese.\" This is a fallacy because it assumes that a general fact about the French people—their cheese consumption—is true for every single person in France. Pierre, of course, could very well not like cheese that much, despite being French. Thus, this argument is a fallacy because it falsely assumes that a general truth about a group can be applied to every single example of that group. In statistics, the division fallacy is called the \"ecological\" fallacy. Here, statisticians incorrectly deduce qualities about a specific person based on characteristics of the group to which that person belongs. Division fallacies can also be seen in stereotypes about different groups of people.\\nHelp improve Study.com. Report an Error')]"
      ]
     },
     "execution_count": 46,
     "metadata": {},
     "output_type": "execute_result"
    }
   ],
   "source": [
    "process_str_data(driver.find_element_by_class_name('wikiContent').text)"
   ]
  },
  {
   "cell_type": "code",
   "execution_count": 44,
   "metadata": {},
   "outputs": [
    {
     "ename": "NoSuchElementException",
     "evalue": "Message: no such element: Unable to locate element: {\"method\":\"css selector\",\"selector\":\".wikiContent\"}\n  (Session info: chrome=94.0.4606.71)\n",
     "output_type": "error",
     "traceback": [
      "\u001b[1;31m---------------------------------------------------------------------------\u001b[0m",
      "\u001b[1;31mNoSuchElementException\u001b[0m                    Traceback (most recent call last)",
      "\u001b[1;32m<ipython-input-44-f4ea664a9a2b>\u001b[0m in \u001b[0;36m<module>\u001b[1;34m\u001b[0m\n\u001b[0;32m     22\u001b[0m                 \u001b[1;32mreturn\u001b[0m \u001b[0mdicts\u001b[0m\u001b[1;33m\u001b[0m\u001b[1;33m\u001b[0m\u001b[0m\n\u001b[0;32m     23\u001b[0m     \u001b[1;32mreturn\u001b[0m \u001b[0mdicts\u001b[0m\u001b[1;33m\u001b[0m\u001b[1;33m\u001b[0m\u001b[0m\n\u001b[1;32m---> 24\u001b[1;33m \u001b[0mget_single_driver\u001b[0m\u001b[1;33m(\u001b[0m\u001b[0mdriver\u001b[0m\u001b[1;33m,\u001b[0m \u001b[1;34m'https://www.logicallyfallacious.com/logicalfallacies/Wishful-Thinking'\u001b[0m\u001b[1;33m)\u001b[0m\u001b[1;33m\u001b[0m\u001b[1;33m\u001b[0m\u001b[0m\n\u001b[0m",
      "\u001b[1;32m<ipython-input-18-5f15d51379a3>\u001b[0m in \u001b[0;36mget_single_driver\u001b[1;34m(driver, url)\u001b[0m\n\u001b[0;32m      1\u001b[0m \u001b[1;32mdef\u001b[0m \u001b[0mget_single_driver\u001b[0m\u001b[1;33m(\u001b[0m\u001b[0mdriver\u001b[0m\u001b[1;33m,\u001b[0m \u001b[0murl\u001b[0m\u001b[1;33m)\u001b[0m\u001b[1;33m:\u001b[0m\u001b[1;33m\u001b[0m\u001b[1;33m\u001b[0m\u001b[0m\n\u001b[0;32m      2\u001b[0m     \u001b[0mdict_qwq\u001b[0m \u001b[1;33m=\u001b[0m \u001b[1;33m{\u001b[0m\u001b[1;34m'Url'\u001b[0m\u001b[1;33m:\u001b[0m\u001b[0murl\u001b[0m\u001b[1;33m,\u001b[0m\u001b[1;34m'Question'\u001b[0m\u001b[1;33m:\u001b[0m\u001b[1;32mNone\u001b[0m\u001b[1;33m,\u001b[0m\u001b[1;34m'Answer'\u001b[0m\u001b[1;33m:\u001b[0m\u001b[1;34m\"None\"\u001b[0m \u001b[1;33m}\u001b[0m\u001b[1;33m\u001b[0m\u001b[1;33m\u001b[0m\u001b[0m\n\u001b[1;32m----> 3\u001b[1;33m     \u001b[0mprocessed_str_data\u001b[0m\u001b[1;33m=\u001b[0m\u001b[0mprocess_str_data\u001b[0m\u001b[1;33m(\u001b[0m\u001b[0mdriver\u001b[0m\u001b[1;33m.\u001b[0m\u001b[0mfind_element_by_class_name\u001b[0m\u001b[1;33m(\u001b[0m\u001b[1;34m'wikiContent'\u001b[0m\u001b[1;33m)\u001b[0m\u001b[1;33m.\u001b[0m\u001b[0mtext\u001b[0m\u001b[1;33m)\u001b[0m\u001b[1;33m\u001b[0m\u001b[1;33m\u001b[0m\u001b[0m\n\u001b[0m\u001b[0;32m      4\u001b[0m     \u001b[0mflag\u001b[0m \u001b[1;33m=\u001b[0m \u001b[1;36m0\u001b[0m\u001b[1;33m\u001b[0m\u001b[1;33m\u001b[0m\u001b[0m\n\u001b[0;32m      5\u001b[0m     \u001b[1;32mfor\u001b[0m \u001b[0mi\u001b[0m \u001b[1;32min\u001b[0m \u001b[0mprocessed_str_data\u001b[0m\u001b[1;33m:\u001b[0m\u001b[1;33m\u001b[0m\u001b[1;33m\u001b[0m\u001b[0m\n",
      "\u001b[1;32mD:\\Anaconda3\\lib\\site-packages\\selenium\\webdriver\\remote\\webdriver.py\u001b[0m in \u001b[0;36mfind_element_by_class_name\u001b[1;34m(self, name)\u001b[0m\n\u001b[0;32m    562\u001b[0m             \u001b[0melement\u001b[0m \u001b[1;33m=\u001b[0m \u001b[0mdriver\u001b[0m\u001b[1;33m.\u001b[0m\u001b[0mfind_element_by_class_name\u001b[0m\u001b[1;33m(\u001b[0m\u001b[1;34m'foo'\u001b[0m\u001b[1;33m)\u001b[0m\u001b[1;33m\u001b[0m\u001b[1;33m\u001b[0m\u001b[0m\n\u001b[0;32m    563\u001b[0m         \"\"\"\n\u001b[1;32m--> 564\u001b[1;33m         \u001b[1;32mreturn\u001b[0m \u001b[0mself\u001b[0m\u001b[1;33m.\u001b[0m\u001b[0mfind_element\u001b[0m\u001b[1;33m(\u001b[0m\u001b[0mby\u001b[0m\u001b[1;33m=\u001b[0m\u001b[0mBy\u001b[0m\u001b[1;33m.\u001b[0m\u001b[0mCLASS_NAME\u001b[0m\u001b[1;33m,\u001b[0m \u001b[0mvalue\u001b[0m\u001b[1;33m=\u001b[0m\u001b[0mname\u001b[0m\u001b[1;33m)\u001b[0m\u001b[1;33m\u001b[0m\u001b[1;33m\u001b[0m\u001b[0m\n\u001b[0m\u001b[0;32m    565\u001b[0m \u001b[1;33m\u001b[0m\u001b[0m\n\u001b[0;32m    566\u001b[0m     \u001b[1;32mdef\u001b[0m \u001b[0mfind_elements_by_class_name\u001b[0m\u001b[1;33m(\u001b[0m\u001b[0mself\u001b[0m\u001b[1;33m,\u001b[0m \u001b[0mname\u001b[0m\u001b[1;33m)\u001b[0m\u001b[1;33m:\u001b[0m\u001b[1;33m\u001b[0m\u001b[1;33m\u001b[0m\u001b[0m\n",
      "\u001b[1;32mD:\\Anaconda3\\lib\\site-packages\\selenium\\webdriver\\remote\\webdriver.py\u001b[0m in \u001b[0;36mfind_element\u001b[1;34m(self, by, value)\u001b[0m\n\u001b[0;32m    974\u001b[0m                 \u001b[0mby\u001b[0m \u001b[1;33m=\u001b[0m \u001b[0mBy\u001b[0m\u001b[1;33m.\u001b[0m\u001b[0mCSS_SELECTOR\u001b[0m\u001b[1;33m\u001b[0m\u001b[1;33m\u001b[0m\u001b[0m\n\u001b[0;32m    975\u001b[0m                 \u001b[0mvalue\u001b[0m \u001b[1;33m=\u001b[0m \u001b[1;34m'[name=\"%s\"]'\u001b[0m \u001b[1;33m%\u001b[0m \u001b[0mvalue\u001b[0m\u001b[1;33m\u001b[0m\u001b[1;33m\u001b[0m\u001b[0m\n\u001b[1;32m--> 976\u001b[1;33m         return self.execute(Command.FIND_ELEMENT, {\n\u001b[0m\u001b[0;32m    977\u001b[0m             \u001b[1;34m'using'\u001b[0m\u001b[1;33m:\u001b[0m \u001b[0mby\u001b[0m\u001b[1;33m,\u001b[0m\u001b[1;33m\u001b[0m\u001b[1;33m\u001b[0m\u001b[0m\n\u001b[0;32m    978\u001b[0m             'value': value})['value']\n",
      "\u001b[1;32mD:\\Anaconda3\\lib\\site-packages\\selenium\\webdriver\\remote\\webdriver.py\u001b[0m in \u001b[0;36mexecute\u001b[1;34m(self, driver_command, params)\u001b[0m\n\u001b[0;32m    319\u001b[0m         \u001b[0mresponse\u001b[0m \u001b[1;33m=\u001b[0m \u001b[0mself\u001b[0m\u001b[1;33m.\u001b[0m\u001b[0mcommand_executor\u001b[0m\u001b[1;33m.\u001b[0m\u001b[0mexecute\u001b[0m\u001b[1;33m(\u001b[0m\u001b[0mdriver_command\u001b[0m\u001b[1;33m,\u001b[0m \u001b[0mparams\u001b[0m\u001b[1;33m)\u001b[0m\u001b[1;33m\u001b[0m\u001b[1;33m\u001b[0m\u001b[0m\n\u001b[0;32m    320\u001b[0m         \u001b[1;32mif\u001b[0m \u001b[0mresponse\u001b[0m\u001b[1;33m:\u001b[0m\u001b[1;33m\u001b[0m\u001b[1;33m\u001b[0m\u001b[0m\n\u001b[1;32m--> 321\u001b[1;33m             \u001b[0mself\u001b[0m\u001b[1;33m.\u001b[0m\u001b[0merror_handler\u001b[0m\u001b[1;33m.\u001b[0m\u001b[0mcheck_response\u001b[0m\u001b[1;33m(\u001b[0m\u001b[0mresponse\u001b[0m\u001b[1;33m)\u001b[0m\u001b[1;33m\u001b[0m\u001b[1;33m\u001b[0m\u001b[0m\n\u001b[0m\u001b[0;32m    322\u001b[0m             response['value'] = self._unwrap_value(\n\u001b[0;32m    323\u001b[0m                 response.get('value', None))\n",
      "\u001b[1;32mD:\\Anaconda3\\lib\\site-packages\\selenium\\webdriver\\remote\\errorhandler.py\u001b[0m in \u001b[0;36mcheck_response\u001b[1;34m(self, response)\u001b[0m\n\u001b[0;32m    240\u001b[0m                 \u001b[0malert_text\u001b[0m \u001b[1;33m=\u001b[0m \u001b[0mvalue\u001b[0m\u001b[1;33m[\u001b[0m\u001b[1;34m'alert'\u001b[0m\u001b[1;33m]\u001b[0m\u001b[1;33m.\u001b[0m\u001b[0mget\u001b[0m\u001b[1;33m(\u001b[0m\u001b[1;34m'text'\u001b[0m\u001b[1;33m)\u001b[0m\u001b[1;33m\u001b[0m\u001b[1;33m\u001b[0m\u001b[0m\n\u001b[0;32m    241\u001b[0m             \u001b[1;32mraise\u001b[0m \u001b[0mexception_class\u001b[0m\u001b[1;33m(\u001b[0m\u001b[0mmessage\u001b[0m\u001b[1;33m,\u001b[0m \u001b[0mscreen\u001b[0m\u001b[1;33m,\u001b[0m \u001b[0mstacktrace\u001b[0m\u001b[1;33m,\u001b[0m \u001b[0malert_text\u001b[0m\u001b[1;33m)\u001b[0m\u001b[1;33m\u001b[0m\u001b[1;33m\u001b[0m\u001b[0m\n\u001b[1;32m--> 242\u001b[1;33m         \u001b[1;32mraise\u001b[0m \u001b[0mexception_class\u001b[0m\u001b[1;33m(\u001b[0m\u001b[0mmessage\u001b[0m\u001b[1;33m,\u001b[0m \u001b[0mscreen\u001b[0m\u001b[1;33m,\u001b[0m \u001b[0mstacktrace\u001b[0m\u001b[1;33m)\u001b[0m\u001b[1;33m\u001b[0m\u001b[1;33m\u001b[0m\u001b[0m\n\u001b[0m\u001b[0;32m    243\u001b[0m \u001b[1;33m\u001b[0m\u001b[0m\n\u001b[0;32m    244\u001b[0m     \u001b[1;32mdef\u001b[0m \u001b[0m_value_or_default\u001b[0m\u001b[1;33m(\u001b[0m\u001b[0mself\u001b[0m\u001b[1;33m,\u001b[0m \u001b[0mobj\u001b[0m\u001b[1;33m,\u001b[0m \u001b[0mkey\u001b[0m\u001b[1;33m,\u001b[0m \u001b[0mdefault\u001b[0m\u001b[1;33m)\u001b[0m\u001b[1;33m:\u001b[0m\u001b[1;33m\u001b[0m\u001b[1;33m\u001b[0m\u001b[0m\n",
      "\u001b[1;31mNoSuchElementException\u001b[0m: Message: no such element: Unable to locate element: {\"method\":\"css selector\",\"selector\":\".wikiContent\"}\n  (Session info: chrome=94.0.4606.71)\n"
     ]
    }
   ],
   "source": [
    "def get_single_driver2333(driver, url):\n",
    "    num_dicts = 0\n",
    "    label = driver.find_element_by_class_name('mx-auto').text.split('\\n')[0]\n",
    "    dicts = []\n",
    "    processed_str_data=process_str_data(driver.find_element_by_class_name('mx-auto').text)\n",
    "    flag = 0\n",
    "    for i in processed_str_data:\n",
    "        if ('Explanation' in i[0]):\n",
    "            dicts[num_dicts-1]['Explanation'] = i[1]\n",
    "            flag = 0\n",
    "        if (flag==1):\n",
    "            dicts[num_dicts-1]['Text']+=i[0]+':'+i[1]+'\\n'\n",
    "        if ('Example'in i[0]):\n",
    "            dicts.append(generate_dict(i[1], label, url))\n",
    "            num_dicts += 1\n",
    "            flag = 1\n",
    "        \n",
    "    for i in processed_str_data:\n",
    "        if (not ('Explanation' in i[0]) and not ('Example'in i[0])):\n",
    "            dicts[0][i[0]] = calc_text(i[1])\n",
    "            if ('Tip' == i[0]):\n",
    "                return dicts\n",
    "    return dicts\n",
    "get_single_driver(driver, 'https://www.logicallyfallacious.com/logicalfallacies/Wishful-Thinking')"
   ]
  },
  {
   "cell_type": "code",
   "execution_count": 47,
   "metadata": {},
   "outputs": [
    {
     "data": {
      "text/plain": [
       "{'Url': 'https://www.logicallyfallacious.com/logicalfallacies/Wishful-Thinking',\n",
       " 'Question': \"\\nWhat are examples of the division fallacy?The Fallacy of Division:\\nThe fallacy of division is an informal logical fallacy in which one reasons that a fact which is true for an entire group must be true for each of that group's parts. The division fallacy is the opposite of the fallacy of composition.\\n\",\n",
       " 'Answer': 'An example of the fallacy of division would be something like: \"People from France eat a lot of cheese. Pierre is from France. Therefore, Pierre eats a lot of cheese.\" This is a fallacy because it assumes that a general fact about the French people—their cheese consumption—is true for every single person in France. Pierre, of course, could very well not like cheese that much, despite being French. Thus, this argument is a fallacy because it falsely assumes that a general truth about a group can be applied to every single example of that group. In statistics, the division fallacy is called the \"ecological\" fallacy. Here, statisticians incorrectly deduce qualities about a specific person based on characteristics of the group to which that person belongs. Division fallacies can also be seen in stereotypes about different groups of people.\\nHelp improve Study.com. Report an Error'}"
      ]
     },
     "execution_count": 47,
     "metadata": {},
     "output_type": "execute_result"
    }
   ],
   "source": [
    "def get_single_driver(driver, url):\n",
    "    dict_qwq = {'Url':url,'Question':None,'Answer':\"None\" }\n",
    "    processed_str_data=process_str_data(driver.find_element_by_class_name('wikiContent').text)\n",
    "    flag = 0\n",
    "    for i in processed_str_data:\n",
    "        if ('Answer and Explanation'in i[0]):\n",
    "            dict_qwq['Answer'] = i[1]\n",
    "            flag = 0\n",
    "        elif (flag==1):\n",
    "                dict_qwq['Question']+=i[0]+':'+i[1]+'\\n'\n",
    "        elif ('Question' in i[0]):\n",
    "            dict_qwq['Question'] = i[1]\n",
    "            flag = 1\n",
    "        else:\n",
    "            dict_qwq['Answer']+=i[0]+':'+i[1]\n",
    "    return dict_qwq\n",
    "get_single_driver(driver, 'https://www.logicallyfallacious.com/logicalfallacies/Wishful-Thinking')"
   ]
  },
  {
   "cell_type": "code",
   "execution_count": 45,
   "metadata": {},
   "outputs": [],
   "source": [
    "driver.get('https://www.logicallyfallacious.com/logicalfallacies/Amazing-Familiarity')"
   ]
  },
  {
   "cell_type": "code",
   "execution_count": 2,
   "metadata": {},
   "outputs": [
    {
     "data": {
      "text/plain": [
       "138"
      ]
     },
     "execution_count": 2,
     "metadata": {},
     "output_type": "execute_result"
    }
   ],
   "source": [
    "results=driver.find_elements_by_class_name('assets__list-link')\n",
    "links =[i.get_attribute('href') for i in results]\n",
    "len(links)"
   ]
  },
  {
   "cell_type": "code",
   "execution_count": 4,
   "metadata": {},
   "outputs": [
    {
     "data": {
      "text/plain": [
       "['https://study.com/academy/answer/what-are-examples-of-the-division-fallacy.html',\n",
       " 'https://study.com/academy/answer/read-the-following-exchanges-between-customers-and-the-new-quest-tour-assistant-in-italy-identify-the-deductive-reasoning-fallacy-in-the-conversations-briefly-describe-how-you-would-change-the-argument-to-overcome-the-fallacy-1-customer-do-you-recom.html',\n",
       " 'https://study.com/academy/answer/jamison-worked-hard-for-his-degree-he-even-had-a-mock-diploma-hanging-over-his-desk-as-motivation-graduation-day-was-the-proudest-day-of-his-life-jamison-was-now-pushing-the-employees-he-manages-to-enroll-in-college-and-get-a-degree-if-a-degree-meant.html',\n",
       " 'https://study.com/academy/answer/what-is-an-infinite-regress-in-philosophy.html',\n",
       " 'https://study.com/academy/answer/what-are-examples-of-equivocation-in-philosophy.html',\n",
       " 'https://study.com/academy/answer/read-the-following-paragraphs-look-for-the-logical-fallacies-and-based-on-those-logical-fallacies-rewrite-the-paragraphs-such-that-they-are-free-of-the-logical-fallacies-1-smartphone-use-is-not-ma.html',\n",
       " 'https://study.com/academy/answer/what-is-the-middle-ground-fallacy.html',\n",
       " 'https://study.com/academy/answer/make-this-a-simpler-premise-objection-melissa-mom-there-is-a-large-percentage-of-women-who-travel-without-men-and-the-majority-of-asian-countries-are-completely-safe-the-good-news-i-will-get-my-scuba-license-in-asia-since-most-women-go-there-to-get.html',\n",
       " 'https://study.com/academy/answer/determine-the-target-of-each-of-the-following-analogical-arguments-we-can-infer-that-utah-is-much-like-california-because-utah-is-dry-mountainous-and-dependent-on-water-from-other-states-and-california-is-dry-mountainous-and-dependent-on-water-from.html',\n",
       " 'https://study.com/academy/answer/correct-the-following-statement-to-make-it-factual-re-write-the-statement-so-it-is-actual-black-people-are-faster-runners-than-white-people.html',\n",
       " 'https://study.com/academy/answer/when-may-fallacious-results-be-obtained.html',\n",
       " 'https://study.com/academy/answer/what-is-an-argument-that-uses-one-term-but-that-term-has-different-meanings-depending-on-how-it-is-used.html',\n",
       " 'https://study.com/academy/answer/what-are-some-examples-of-fallacious-reasoning.html',\n",
       " 'https://study.com/academy/answer/how-do-you-expain-fallacy-of-the-converse-and-fallacy-of-the-inverse-laws.html',\n",
       " 'https://study.com/academy/answer/what-are-real-life-examples-of-informal-fallacies.html',\n",
       " 'https://study.com/academy/answer/what-are-examples-of-formal-fallacy.html',\n",
       " 'https://study.com/academy/answer/what-are-examples-in-media-of-false-cause-fallacy.html',\n",
       " 'https://study.com/academy/answer/thoroughly-explain-the-broken-window-fallacy.html',\n",
       " 'https://study.com/academy/answer/what-is-the-part-to-whole-fallacy.html',\n",
       " 'https://study.com/academy/answer/what-is-a-term-or-terms-known-to-have-negative-or-positive-connotations-and-are-deliberately-placed-in-an-argument-to-evoke-favor-toward-your-conclusion.html',\n",
       " 'https://study.com/academy/answer/what-is-an-attempt-to-make-it-appear-that-reason-is-being-used-when-in-actuality-excuses-are-being-made.html',\n",
       " 'https://study.com/academy/answer/a-speaker-who-states-that-a-campus-club-likes-reggae-because-one-of-its-members-listens-to-it-makes-a-n-a-common-inference-b-hasty-generalization-c-invalid-attribution-d-post-hoc-fallacy.html',\n",
       " 'https://study.com/academy/answer/when-does-an-arguer-mischaracterize-the-conclusion-of-his-or-her-opponent-s-argument-and-then-attack-the-argument-in-its-distorted-form.html',\n",
       " 'https://study.com/academy/answer/among-the-eleven-common-fallacies-of-relevance-given-below-which-ones-exert-the-most-influence-on-your-decision-making-analyze-the-issues-involved-and-discuss-how-you-will-avoid-the-pitfalls-of-fall.html',\n",
       " 'https://study.com/academy/answer/how-can-a-hasty-generalization-fallacy-be-avoided.html',\n",
       " 'https://study.com/academy/answer/what-is-a-sweeping-generalization.html',\n",
       " 'https://study.com/academy/answer/which-of-the-following-statements-best-describes-the-fallacy-of-division-a-the-assumption-that-when-one-event-precedes-another-the-first-caused-the-second-b-the-assumption-that-what-is-true-of-a-part-is-true-also-of-the-whole-c-the-ignoring-or-d.html',\n",
       " 'https://study.com/academy/answer/explain-the-concept-of-opportunity-cost-the-fixed-cost-and-the-hidden-cost-fallacy-and-determine-whether-it-is-better-to-rent-or-own-given-the-described-situation.html',\n",
       " 'https://study.com/academy/answer/in-a-recent-wall-street-journal-editorial-brian-wesbury-wrote-every-economy-can-be-divided-into-two-parts-private-and-public-sectors-the-larger-the-slice-taken-by-the-government-the-smaller-the-slice-left-for-the-private-sector-the-fallacy-in-this.html',\n",
       " 'https://study.com/academy/answer/is-the-following-statement-an-example-of-the-hasty-generalization-fallacy-airplanes-are-dangerous-to-your-health-i-cannot-tell-you-the-number-of-times-i-have-gotten-sick-after-riding-on-an-airplane.html',\n",
       " 'https://study.com/academy/answer/give-an-example-of-a-hasty-generalization-fallacy.html',\n",
       " 'https://study.com/academy/answer/which-type-of-fallacy-is-used-in-the-following-sentence-i-don-t-like-to-read-because-there-are-no-interesting-books.html',\n",
       " 'https://study.com/academy/answer/what-is-a-dogmatism-fallacy.html',\n",
       " 'https://study.com/academy/answer/what-is-an-appeal-to-authority-fallacy.html',\n",
       " 'https://study.com/academy/answer/what-is-an-amphiboly-fallacy.html',\n",
       " 'https://study.com/academy/answer/why-is-appeal-to-authority-a-fallacy.html',\n",
       " 'https://study.com/academy/answer/what-is-a-loaded-question-fallacy.html',\n",
       " 'https://study.com/academy/answer/what-are-examples-of-the-fallacy-fallacy.html',\n",
       " 'https://study.com/academy/answer/what-are-examples-of-the-fallacy-of-composition.html',\n",
       " 'https://study.com/academy/answer/what-is-an-example-of-bandwagon-fallacy.html',\n",
       " 'https://study.com/academy/answer/define-appeal-to-illegitimate-authority.html',\n",
       " 'https://study.com/academy/answer/what-are-examples-of-the-begging-the-question-fallacy.html',\n",
       " 'https://study.com/academy/answer/what-is-a-fallacious-argument.html',\n",
       " 'https://study.com/academy/answer/what-are-examples-of-the-complex-question-fallacy.html',\n",
       " 'https://study.com/academy/answer/what-are-examples-of-the-argumentum-ad-baculum-fallacy.html',\n",
       " 'https://study.com/academy/answer/what-are-examples-of-the-appeal-to-ignorance-fallacy.html',\n",
       " 'https://study.com/academy/answer/what-are-examples-of-the-amphiboly-fallacy.html',\n",
       " 'https://study.com/academy/answer/what-is-the-fallacy-of-composition.html',\n",
       " 'https://study.com/academy/answer/what-is-a-rhetorical-fallacy.html',\n",
       " 'https://study.com/academy/answer/is-the-appeal-to-authority-a-fallacy.html',\n",
       " 'https://study.com/academy/answer/what-is-false-causality-in-philosophy.html',\n",
       " 'https://study.com/academy/answer/what-fallacy-would-this-be-bringing-your-child-to-the-clinic-for-vaccinations-is-literally-like-bringing-your-child-to-auschwitz.html',\n",
       " 'https://study.com/academy/answer/what-is-a-red-herring-fallacy.html',\n",
       " 'https://study.com/academy/answer/what-is-begging-the-question-fallacy.html',\n",
       " 'https://study.com/academy/answer/do-any-of-the-following-statements-involve-fallacies-if-so-which-ones-do-they-involve-a-because-sitting-in-the-back-of-a-classroom-is-correlated-with-getting-a-lower-grade-in-the-class-students-should-always-sit-closer-to-the-front-of-the-classroom.html',\n",
       " 'https://study.com/academy/answer/why-are-non-sequiturs-considered-a-logical-fallacy.html',\n",
       " 'https://study.com/academy/answer/which-of-the-following-helps-to-explain-why-the-inflation-fallacy-is-a-fallacy-a-increases-in-the-price-level-can-be-created-by-increases-in-money-demand-b-nominal-incomes-tend-to-rise-at-the-same-time-that-the-price-level-is-rising-c-as-the-price-l.html',\n",
       " 'https://study.com/academy/answer/what-are-some-examples-that-logical-fallacies-contradict-the-scientific-method.html',\n",
       " 'https://study.com/academy/answer/what-is-either-or-thinking-also-called-the-black-white-fallacy.html',\n",
       " 'https://study.com/academy/answer/match-each-item-to-one-or-more-of-the-following-categories-a-hasty-generalization-generalizing-from-exceptional-cases-b-accident-c-weak-analogy-d-fallacious-appeal-to-authority-e.html',\n",
       " 'https://study.com/academy/answer/what-is-a-potential-fallacy-behind-the-idea-that-workers-in-the-bottom-10-or-5-of-the-workforce-are-substandard-performers.html',\n",
       " 'https://study.com/academy/answer/give-some-strategies-to-support-ethical-reasoning-in-student-argumentation.html',\n",
       " 'https://study.com/academy/answer/argue-the-con-position-should-we-send-humans-to-mars-a-give-an-argument-for-why-your-side-is-correct-b-give-an-argument-for-why-the-other-side-is-incorrect.html',\n",
       " 'https://study.com/academy/answer/what-is-the-term-for-a-fallacious-argument.html',\n",
       " 'https://study.com/academy/answer/explain-the-hot-hand-fallacy-and-the-gambler-s-fallacy-with-an-example.html',\n",
       " 'https://study.com/academy/answer/identify-the-fallacy-or-mistake-in-thinking-in-this-statement-raising-taxes-always-increases-government-revenues.html',\n",
       " 'https://study.com/academy/answer/the-fallacy-of-composition-is-a-a-flawed-statement-b-the-confusion-of-the-whole-and-the-parts-of-the-whole-c-a-very-common-analytical-error-d-all-of-the-above.html',\n",
       " 'https://study.com/academy/answer/describe-how-fallacies-can-be-created-and-spread.html',\n",
       " 'https://study.com/academy/answer/write-examples-of-the-following-fallacy-slippery-slope.html',\n",
       " 'https://study.com/academy/answer/write-examples-of-the-following-fallacy-confusing-cause-and-effect.html',\n",
       " 'https://study.com/academy/answer/below-are-some-arguments-in-standard-form-some-of-them-are-the-fallacies-of-affirming-the-consequent-ac-denying-the-antecedent-dn-and-undistributed-middle-um-identify-each-by-writing-the-abb.html',\n",
       " 'https://study.com/academy/answer/is-the-ad-hominem-and-the-genetic-fallacy-the-same.html',\n",
       " 'https://study.com/academy/answer/the-word-fallacy-derives-from-the-latin-word-a-to-conceive-b-to-deceive-c-to-berate-d-to-confuse.html',\n",
       " 'https://study.com/academy/answer/is-the-following-argument-valid-or-is-it-a-fallacy-if-it-is-valid-identify-the-argument-form-germans-like-bratwurst-mike-likes-bratwurst-therefore-mike-is-german-a-modus-ponens-modus-ponen.html',\n",
       " 'https://study.com/academy/answer/which-reasoning-fallacies-are-present-in-the-following-statements-post-hoc-ergo-propter-hoc-or-fallacy-of-composition-a-the-economy-was-expanding-during-all-of-the-years-that-i-was-a-student-but-as-soon-as-i-graduated-the-economy-contracted-there.html',\n",
       " 'https://study.com/academy/answer/dr-torvon-cheated-national-health-insurance-by-exaggerating-expenses-and-dr-delle-cheated-by-submitting-fees-for-nonexistent-patients-dr-owusu-defrauded-a-dozen-insurance-companies-by-requiring-unneeded-lab-tests-therefore-all-doctors-cheat-critic.html',\n",
       " 'https://study.com/academy/answer/when-people-estimate-that-the-odds-of-two-uncertain-events-happening-together-are-greater-than-the-odds-of-either-event-happening-alone-they-are-displaying-the-a-gambler-s-fallacy-b-overconfidence-effect-c-conjunction-fallacy-d-framing-e.html',\n",
       " 'https://study.com/academy/answer/suppose-you-observe-that-communities-with-lots-of-doctors-tend-to-have-relatively-high-rates-of-illness-you-conclude-that-doctors-cause-illness-what-is-wrong-with-this-reasoning.html',\n",
       " 'https://study.com/academy/answer/fill-in-the-blank-with-correct-word-s-a-form-of-faulty-thinking-that-involves-the-belief-that-people-generally-get-what-they-deserve-is-known-as-a-n-rule-1in-2mm-belief.html',\n",
       " 'https://study.com/academy/answer/use-the-traditional-square-of-opposition-to-determine-whether-the-following-argument-is-valid-or-invalid-if-invalid-name-the-fallacy-some-miami-policemen-are-not-officers-involved-in-drug-trafficking-therefore-no-miami-policemen-are-officers-involve.html',\n",
       " 'https://study.com/academy/answer/identify-the-type-of-fallacy-in-the-following-passage-or-you-could-put-this-in-terms-of-whether-the-inductive-generalization-has-a-confidence-level-in-the-conclusion-that-is-too-high-or-an-error.html',\n",
       " 'https://study.com/academy/answer/what-is-the-difference-between-a-statement-and-an-argument-provide-an-example.html',\n",
       " 'https://study.com/academy/answer/if-that-wasn-t-illegal-then-it-wouldn-t-be-against-the-law-may-commit-which-fallacy.html',\n",
       " 'https://study.com/academy/answer/which-fallacy-is-used-in-the-sentence-shopping-malls-are-hangouts-for-gang-members-1-ad-hominem-2-stereotyping-3-exaggeration-4-categorical-claim.html',\n",
       " 'https://study.com/academy/answer/what-is-moral-equivalence.html',\n",
       " 'https://study.com/academy/answer/consider-the-following-statement-whenever-there-is-a-recession-imports-decrease-therefore-to-stop-a-recession-we-should-increase-imports-identify-the-fallacy-or-mistake-in-thinking-in-this-economic-statement.html',\n",
       " 'https://study.com/academy/answer/are-these-questions-deductive-inductive-fallacies-or-obstacles-which-kind-are-they-1-many-students-love-online-classes-more-students-should-sign-up-for-these-this-would-increase-the-success-rate-2-online-classes-are-a-good-option-for-older-student.html',\n",
       " 'https://study.com/academy/answer/find-the-2-missing-patterns-1-2-6-24-120-2-4-8-16-32-1-1-4-1-9-1-16-1-25-1-1-2-1-3-1-4.html',\n",
       " 'https://study.com/academy/answer/most-college-students-either-currently-have-or-at-one-time-have-had-roommates-or-housemates-think-about-a-time-when-you-have-shared-your-living-space-with-one-or-more-students-and-describe-the-ef.html',\n",
       " 'https://study.com/academy/answer/multiple-choice-1-every-investor-in-the-stock-market-is-rational-and-the-stock-market-just-consists-of-millions-of-investors-so-the-stock-market-must-also-be-rational-a-fallacy-of-composit.html',\n",
       " 'https://study.com/academy/answer/what-does-it-mean-to-say-that-a-report-you-are-writing-contains-several-logical-fallacies.html',\n",
       " 'https://study.com/academy/answer/from-horses-are-animals-it-follows-that-the-head-of-a-horse-is-the-head-of-an-animal-demonstrate-that-this-inference-is-valid-by-carrying-out-the-following-steps-1-translate-the-premise-and-th.html',\n",
       " 'https://study.com/academy/answer/how-do-you-correct-a-straw-man-fallacy.html',\n",
       " 'https://study.com/academy/answer/what-are-some-examples-of-ad-misericordiam.html',\n",
       " 'https://study.com/academy/answer/define-fallacies-of-ambiguity.html',\n",
       " 'https://study.com/academy/answer/what-is-an-example-of-ambiguity-as-a-logical-fallacy.html',\n",
       " 'https://study.com/academy/answer/what-are-examples-of-the-ambiguity-fallacy.html',\n",
       " 'https://study.com/academy/answer/what-are-examples-of-fallacies-of-relevance.html',\n",
       " 'https://study.com/academy/answer/how-many-logical-fallacies-are-there.html',\n",
       " 'https://study.com/academy/answer/what-are-fallacies-of-relevance.html',\n",
       " 'https://study.com/academy/answer/define-begging-the-question.html',\n",
       " 'https://study.com/academy/answer/what-does-circular-reasoning-mean.html',\n",
       " 'https://study.com/academy/answer/what-is-a-circular-argument.html',\n",
       " 'https://study.com/academy/answer/define-false-analogy.html',\n",
       " 'https://study.com/academy/answer/define-circular-reasoning.html',\n",
       " 'https://study.com/academy/answer/is-ought-by-ayn-rand-fallacy.html',\n",
       " 'https://study.com/academy/answer/what-is-a-formal-fallacy.html',\n",
       " 'https://study.com/academy/answer/what-kind-of-reasoning-is-the-statement-anything-that-possesses-360-degrees-must-be-a-circle.html',\n",
       " 'https://study.com/academy/answer/what-is-a-false-dichotomy.html',\n",
       " 'https://study.com/academy/answer/what-does-appeal-to-ignorance-mean.html',\n",
       " 'https://study.com/academy/answer/explain-cellophane-fallacy.html',\n",
       " 'https://study.com/academy/answer/what-is-the-pathetic-fallacy.html',\n",
       " 'https://study.com/academy/answer/what-is-the-texas-sharpshooter-fallacy.html',\n",
       " 'https://study.com/academy/answer/what-is-a-fallacy-in-an-argument-essay.html',\n",
       " 'https://study.com/academy/answer/what-is-ad-populum.html',\n",
       " 'https://study.com/academy/answer/what-are-examples-of-the-fallacy-of-accent.html',\n",
       " 'https://study.com/academy/answer/what-is-faulty-analogy.html',\n",
       " 'https://study.com/academy/answer/what-are-examples-of-appeal-to-force.html',\n",
       " 'https://study.com/academy/answer/how-can-the-appeal-to-authority-fallacy-be-avoided.html',\n",
       " 'https://study.com/academy/answer/logical-fallacies-cause-and-effect-who-may-use-it-how-does-it-twist-the-factor-or-is-not-logical-why-should-cause-and-effect-not-be-used-in-a-reserch-paper.html',\n",
       " 'https://study.com/academy/answer/what-is-ignoratio-elenchi.html',\n",
       " 'https://study.com/academy/answer/what-is-an-example-of-a-circular-argument.html',\n",
       " 'https://study.com/academy/answer/define-modus-tollens-in-philosophy.html',\n",
       " 'https://study.com/academy/answer/how-does-the-sunk-cost-fallacy-relate-to-the-sims-games.html',\n",
       " 'https://study.com/academy/answer/tom-s-suv-rolled-over-suv-s-are-dangerous-this-best-illustrates-which-fallacy.html',\n",
       " 'https://study.com/academy/answer/what-is-an-example-of-the-straw-man-fallacy.html',\n",
       " 'https://study.com/academy/answer/rational-ignorance-is-when-a-full-information-is-not-available-b-the-benefit-of-becoming-fully-informed-is-lower-than-the-cost-c-the-cost-of-information-is-low-d-there-is-no-benefit-to-gat.html',\n",
       " 'https://study.com/academy/answer/what-are-some-examples-of-fallacies-of-presumption.html',\n",
       " 'https://study.com/academy/answer/what-is-an-appeal-to-popularity.html',\n",
       " 'https://study.com/academy/answer/if-a-person-says-what-is-that-app-i-have-to-have-it-everyone-else-has-it-is-this-an-example-of-the-bandwagon-fallacy-or-a-hasty-generalization-fallacy.html',\n",
       " 'https://study.com/academy/answer/what-are-examples-of-the-self-contradiction-fallacy.html',\n",
       " 'https://study.com/academy/answer/what-are-examples-of-the-equivocation-fallacy.html',\n",
       " 'https://study.com/academy/answer/what-is-the-does-not-follow-fallacy.html',\n",
       " 'https://study.com/academy/answer/what-does-appeal-to-authority-mean.html',\n",
       " 'https://study.com/academy/answer/what-is-ad-nauseum.html',\n",
       " 'https://study.com/academy/answer/what-is-a-hasty-generalization.html',\n",
       " 'https://study.com/academy/answer/what-is-the-post-hoc-fallacy.html',\n",
       " 'https://study.com/academy/answer/what-is-an-example-of-the-reductio-ad-absurdum-fallacy.html']"
      ]
     },
     "execution_count": 4,
     "metadata": {},
     "output_type": "execute_result"
    }
   ],
   "source": [
    "links"
   ]
  },
  {
   "cell_type": "code",
   "execution_count": 54,
   "metadata": {},
   "outputs": [],
   "source": [
    "# Extract the valid link\n",
    "links = [i.get_attribute('href')for i in results]\n",
    "def link_filter(link):\n",
    "    return ('https://quizizz.com/admin/' in link )\n",
    "links = [link for link in links if link_filter(link)]"
   ]
  },
  {
   "cell_type": "code",
   "execution_count": 18,
   "metadata": {},
   "outputs": [
    {
     "data": {
      "text/plain": [
       "'https://www.logicallyfallacious.com/logicalfallacies/Wishful-Thinking'"
      ]
     },
     "execution_count": 18,
     "metadata": {},
     "output_type": "execute_result"
    }
   ],
   "source": [
    "links[237]"
   ]
  },
  {
   "cell_type": "code",
   "execution_count": 15,
   "metadata": {},
   "outputs": [],
   "source": [
    "TLinks=links"
   ]
  },
  {
   "cell_type": "code",
   "execution_count": 55,
   "metadata": {},
   "outputs": [
    {
     "data": {
      "text/plain": [
       "203"
      ]
     },
     "execution_count": 55,
     "metadata": {},
     "output_type": "execute_result"
    }
   ],
   "source": [
    "# Remove duplicate links\n",
    "links = [i for i in links if not i in total_links]\n",
    "for link in links:\n",
    "    total_links.append(link)\n",
    "len(links)"
   ]
  },
  {
   "cell_type": "code",
   "execution_count": 58,
   "metadata": {},
   "outputs": [],
   "source": [
    "len(total_links)\n",
    "total_links_old = list(set(source_url))"
   ]
  },
  {
   "cell_type": "code",
   "execution_count": 82,
   "metadata": {},
   "outputs": [
    {
     "data": {
      "text/plain": [
       "932"
      ]
     },
     "execution_count": 82,
     "metadata": {},
     "output_type": "execute_result"
    }
   ],
   "source": [
    "llinks = [i for i in total_links if not i in total_links_old]\n",
    "len(llinks)"
   ]
  },
  {
   "cell_type": "code",
   "execution_count": 55,
   "metadata": {},
   "outputs": [],
   "source": [
    "ans = []"
   ]
  },
  {
   "cell_type": "code",
   "execution_count": 57,
   "metadata": {},
   "outputs": [
    {
     "data": {
      "text/plain": [
       "'https://www.logicallyfallacious.com/logicalfallacies/Accent-Fallacy'"
      ]
     },
     "execution_count": 57,
     "metadata": {},
     "output_type": "execute_result"
    }
   ],
   "source": [
    "links[0]"
   ]
  },
  {
   "cell_type": "code",
   "execution_count": 74,
   "metadata": {},
   "outputs": [
    {
     "name": "stdout",
     "output_type": "stream",
     "text": [
      "{'Url': 'https://www.logicallyfallacious.com/logicalfallacies/Accent-Fallacy', 'Text': ' In the movie, My Cousin Vinny, Ralph Maccio\\'s character, Bill, was interrogated for suspected murder. When the police officer asks him, \"At what point did you shoot the clerk?\" Bill replies in shock, \"I shot the clerk? I shot the clerk?\" Later in the film, the police officer reads Bill\\'s statement as a confession in court, \"...and he said, \\'I shot the clerk. I shot the clerk.\\'\"', 'Label': 'Accent Fallacy', 'Explanation': \" In the movie, it appeared that the police officer did understand Bill's question as a confession. So it did not appear to be a fallacious tactic of the police officer, rather a failure of critical thought perhaps due to a strong confirmation bias (the officer was very confident that Bill was guilty, thus failed to detect the nuance in the question).\", 'Exception': None, 'Logical Form': 'Claim is made with accent on word X giving claim meaning Y.\\nClaim is interpreted with accent on word A giving claim meaning B.', 'Description': ' When the meaning of a word, sentence, or entire idea is interpreted differently by changing where the accent falls.', 'Tip': ' Our biases can cause us to miss the vocal nuance. Listen actively and critically, and try not to jump to conclusions. And you cannot turn off gay thoughts like a light switch.'}\n"
     ]
    }
   ],
   "source": [
    "print(get_single_driver(driver, link)[0])"
   ]
  },
  {
   "cell_type": "code",
   "execution_count": 111,
   "metadata": {},
   "outputs": [
    {
     "data": {
      "text/plain": [
       "160"
      ]
     },
     "execution_count": 111,
     "metadata": {},
     "output_type": "execute_result"
    }
   ],
   "source": [
    "len(ans)"
   ]
  },
  {
   "cell_type": "markdown",
   "metadata": {},
   "source": [
    "qwq"
   ]
  },
  {
   "cell_type": "code",
   "execution_count": 18,
   "metadata": {},
   "outputs": [],
   "source": [
    "ans=[]"
   ]
  },
  {
   "cell_type": "code",
   "execution_count": 22,
   "metadata": {},
   "outputs": [
    {
     "data": {
      "text/plain": [
       "65"
      ]
     },
     "execution_count": 22,
     "metadata": {},
     "output_type": "execute_result"
    }
   ],
   "source": [
    "len(ans)"
   ]
  },
  {
   "cell_type": "code",
   "execution_count": 32,
   "metadata": {},
   "outputs": [],
   "source": [
    "total_url=[]"
   ]
  },
  {
   "cell_type": "code",
   "execution_count": 33,
   "metadata": {},
   "outputs": [
    {
     "name": "stdout",
     "output_type": "stream",
     "text": [
      "138\n"
     ]
    }
   ],
   "source": [
    "for i in ans:\n",
    "    if not i['Url'] in total_url:\n",
    "        total_url.append(i['Url'])\n",
    "print(len(total_url))"
   ]
  },
  {
   "cell_type": "code",
   "execution_count": 58,
   "metadata": {},
   "outputs": [
    {
     "name": "stdout",
     "output_type": "stream",
     "text": [
      "0 14\n",
      "1 15\n",
      "2 17\n",
      "3 18\n",
      "4 35\n",
      "5 37\n",
      "6 41\n",
      "7 48\n",
      "8 52\n",
      "9 58\n",
      "10 64\n",
      "11 66\n",
      "12 67\n",
      "13 72\n",
      "14 84\n",
      "15 87\n",
      "16 88\n",
      "17 91\n",
      "18 98\n",
      "19 101\n",
      "20 102\n",
      "21 106\n",
      "22 116\n",
      "23 120\n",
      "24 124\n",
      "25 127\n",
      "26 128\n",
      "27 129\n",
      "28 133\n",
      "29 136\n",
      "138\n"
     ]
    }
   ],
   "source": [
    "import time\n",
    "qwq = 0\n",
    "for i in range(len(ans)):\n",
    "    if (ans[i][\"Answer\"]==''):\n",
    "        print(qwq,i)\n",
    "        qwq+=1\n",
    "        link = links[i]\n",
    "        if True:\n",
    "            total_url.append(link)\n",
    "            driver.get(link)\n",
    "            time.sleep(2)\n",
    "            try: \n",
    "                new_ans = get_single_driver(driver, link)\n",
    "                ans[i]=new_ans\n",
    "            except:\n",
    "                pass\n",
    "print(len(ans))"
   ]
  },
  {
   "cell_type": "code",
   "execution_count": null,
   "metadata": {},
   "outputs": [],
   "source": [
    "{'Url':url,'Question':Question}"
   ]
  },
  {
   "cell_type": "code",
   "execution_count": null,
   "metadata": {},
   "outputs": [],
   "source": [
    "new_ans = get_single_driver(driver, link)"
   ]
  },
  {
   "cell_type": "code",
   "execution_count": 28,
   "metadata": {},
   "outputs": [
    {
     "data": {
      "text/plain": [
       "138"
      ]
     },
     "execution_count": 28,
     "metadata": {},
     "output_type": "execute_result"
    }
   ],
   "source": [
    "len(total_url)"
   ]
  },
  {
   "cell_type": "code",
   "execution_count": 59,
   "metadata": {},
   "outputs": [],
   "source": [
    "Url, Question, Answer=[],[],[]\n",
    "for i in ans:\n",
    "    Url.append(i.get(\"Url\"))\n",
    "    Question.append(i.get(\"Question\"))\n",
    "    Answer.append(i.get(\"Answer\"))"
   ]
  },
  {
   "cell_type": "code",
   "execution_count": 61,
   "metadata": {},
   "outputs": [
    {
     "data": {
      "text/plain": [
       "138"
      ]
     },
     "execution_count": 61,
     "metadata": {},
     "output_type": "execute_result"
    }
   ],
   "source": [
    "len(Answer)"
   ]
  },
  {
   "cell_type": "code",
   "execution_count": 24,
   "metadata": {},
   "outputs": [
    {
     "data": {
      "text/plain": [
       "490"
      ]
     },
     "execution_count": 24,
     "metadata": {},
     "output_type": "execute_result"
    }
   ],
   "source": [
    "len(Explanation)"
   ]
  },
  {
   "cell_type": "code",
   "execution_count": 62,
   "metadata": {},
   "outputs": [],
   "source": [
    "import pandas as pd\n",
    "dict_qwq={\"Url\":Url, \n",
    "                      \"Question\":Question, \n",
    "                      \"Answer\":Answer, \n",
    "                    }\n",
    "datas = pd.DataFrame(dict_qwq)\n",
    "datas.to_csv('data_logicallyfallacious_study.csv')"
   ]
  },
  {
   "cell_type": "code",
   "execution_count": 63,
   "metadata": {},
   "outputs": [
    {
     "data": {
      "text/plain": [
       "138"
      ]
     },
     "execution_count": 63,
     "metadata": {},
     "output_type": "execute_result"
    }
   ],
   "source": [
    "len(dict_qwq['Question'])"
   ]
  },
  {
   "cell_type": "code",
   "execution_count": 41,
   "metadata": {},
   "outputs": [
    {
     "name": "stdout",
     "output_type": "stream",
     "text": [
      "32\n",
      "97\n",
      "334\n",
      "446\n"
     ]
    },
    {
     "data": {
      "text/plain": [
       "100"
      ]
     },
     "execution_count": 41,
     "metadata": {},
     "output_type": "execute_result"
    }
   ],
   "source": [
    "ans=100\n",
    "for i in range(len(Text)):\n",
    "    if (len(Text[i])<=30):\n",
    "        print(i)\n",
    "ans"
   ]
  },
  {
   "cell_type": "code",
   "execution_count": 51,
   "metadata": {},
   "outputs": [
    {
     "data": {
      "text/plain": [
       "'Atheists are morally bankrupt.'"
      ]
     },
     "execution_count": 51,
     "metadata": {},
     "output_type": "execute_result"
    }
   ],
   "source": [
    "Text[446]"
   ]
  },
  {
   "cell_type": "code",
   "execution_count": 52,
   "metadata": {},
   "outputs": [
    {
     "data": {
      "text/plain": [
       "'https://www.logicallyfallacious.com/logicalfallacies/Stereotyping-the-fallacy'"
      ]
     },
     "execution_count": 52,
     "metadata": {},
     "output_type": "execute_result"
    }
   ],
   "source": [
    "Url[446]"
   ]
  },
  {
   "cell_type": "code",
   "execution_count": 4,
   "metadata": {},
   "outputs": [
    {
     "name": "stderr",
     "output_type": "stream",
     "text": [
      "'torch' 不是内部或外部命令，也不是可运行的程序\n",
      "或批处理文件。\n"
     ]
    }
   ],
   "source": [
    "!torch 1.tex"
   ]
  },
  {
   "cell_type": "code",
   "execution_count": 5,
   "metadata": {},
   "outputs": [],
   "source": [
    "import numpy as np\n",
    "import matplotlib\n",
    "matplotlib.use('Agg')\n",
    "import matplotlib.pyplot as plt\n",
    "\n",
    "color_name = 'color{}'\n",
    "define_color = '\\definecolor{{{}}}{{HTML}}{{{}}}'\n",
    "box = '\\\\mybox{{{}}}{{\\strut{{{}}}}}'\n",
    "\n",
    "\n",
    "def latex_colorize(text, weights):\n",
    "    s = ''\n",
    "    for w, x in zip(text, weights):\n",
    "        color = np.digitize(x, np.arange(0, 1, 0.1)) - 1\n",
    "        s += ' ' + box.format(color_name.format(color), w)\n",
    "    return s\n",
    "\n",
    "\n",
    "def prepare_colorize():\n",
    "    with open('1', 'w') as f:\n",
    "        cmap = plt.cm.get_cmap('Reds')\n",
    "        for i, x in enumerate(np.arange(0, 1, 0.1)):\n",
    "            rgb = matplotlib.colors.rgb2hex(cmap(x)[:3])\n",
    "            # convert to upper to circumvent xcolor bug\n",
    "            rgb = rgb[1:].upper() if x > 0 else 'FFFFFF'\n",
    "            f.write(define_color.format(color_name.format(i), rgb))\n",
    "            f.write('\\n')\n",
    "        f.write('''\\\\newcommand*{\\mybox}[2]{\\\\tikz[anchor=base,baseline=0pt,rounded corners=0pt, inner sep=0.2mm] \\\\node[fill=#1!60!white] (X) {#2};}''')\n",
    "        f.write('\\n')\n",
    "        f.write('''\\\\newcommand*{\\mybbox}[2]{\\\\tikz[anchor=base,baseline=0pt,inner sep=0.2mm,] \\\\node[draw=black,thick,fill=#1!60!white] (X) {#2};}''')\n",
    "\n",
    "\n",
    "def figure_4():\n",
    "    words_weights = []\n",
    "    words_weights.append([\n",
    "        (\"What\", 0.1),\n",
    "        (\"company\", 0.1),\n",
    "        (\"won\", 0.1),\n",
    "        (\"free\", 0.1),\n",
    "        (\"advertisement\", 0.7),\n",
    "        (\"due\", 0.1),\n",
    "        (\"to\", 0.1),\n",
    "        (\"QuickBooks\", 0.1),\n",
    "        (\"\\\\underline{contest}\", 0.0),\n",
    "        (\"?\", 0.1),\n",
    "        ])\n",
    "    words_weights.append([\n",
    "        (\"What\", 0.1),\n",
    "        (\"company\", 0.1),\n",
    "        (\"won\", 0.1),\n",
    "        (\"free\", 0.1),\n",
    "        (\"advertisement\", 0.7),\n",
    "        (\"due\", 0.1),\n",
    "        (\"to\", 0.1),\n",
    "        (\"\\\\underline{QuickBooks}\", 0.0),\n",
    "        (\"?\", 0.1),\n",
    "        ])\n",
    "    words_weights.append([\n",
    "        (\"What\", 0.3),\n",
    "        (\"company\", 0.0),\n",
    "        (\"won\", 0.1),\n",
    "        (\"free\", 0.1),\n",
    "        (\"\\\\underline{advertisement}\", 0.0),\n",
    "        (\"due\", 0.1),\n",
    "        (\"to\", 0.1),\n",
    "        (\"?\", 0.5),\n",
    "        ])\n",
    "    words_weights.append([\n",
    "        (\"What\", 0.1),\n",
    "        (\"\\\\underline{company}\", 0.0),\n",
    "        (\"won\", 0.1),\n",
    "        (\"free\", 0.1),\n",
    "        (\"due\", 0.1),\n",
    "        (\"to\", 0.1),\n",
    "        (\"?\", 0.5),\n",
    "        ])\n",
    "    words_weights.append([\n",
    "        (\"What\", 0.1),\n",
    "        (\"won\", 0.4),\n",
    "        (\"\\\\underline{free}\", 0.0),\n",
    "        (\"due\", 0.1),\n",
    "        (\"to\", 0.0),\n",
    "        (\"?\", 0.5),\n",
    "        ])\n",
    "    words_weights.append([\n",
    "        (\"What\", 0.1),\n",
    "        (\"won\", 0.1),\n",
    "        (\"due\", 0.1),\n",
    "        (\"to\", 0.1),\n",
    "        (\"\\\\underline{?}\", 0.0),\n",
    "        ])\n",
    "    words_weights.append([\n",
    "        (\"What\", 0.1),\n",
    "        (\"won\", 0.4),\n",
    "        (\"due\", 0.1),\n",
    "        (\"\\\\underline{to}\", 0.0),\n",
    "        ])\n",
    "    words_weights.append([\n",
    "        (\"What\", 0.4),\n",
    "        (\"won\", 0.3),\n",
    "        (\"\\\\underline{due}\", 0.1),\n",
    "        ])\n",
    "    words_weights.append([\n",
    "        (\"What\", 0.3),\n",
    "        (\"\\\\underline{won}\", 0.1),\n",
    "        ])\n",
    "    words_weights.append([\n",
    "        (\"What\", 0.2),\n",
    "        ])\n",
    "    \n",
    "    with open('1.tex', 'w') as f:\n",
    "        for ww in words_weights:\n",
    "            words, weights = list(map(list, zip(*ww)))\n",
    "            f.write(latex_colorize(words, weights)+'\\\\\\\\\\n')\n",
    "\n",
    "\n",
    "if __name__ == '__main__':\n",
    "    prepare_colorize()\n",
    "    figure_4()"
   ]
  },
  {
   "cell_type": "code",
   "execution_count": null,
   "metadata": {},
   "outputs": [],
   "source": []
  }
 ],
 "metadata": {
  "kernelspec": {
   "display_name": "Python 3",
   "language": "python",
   "name": "python3"
  },
  "language_info": {
   "codemirror_mode": {
    "name": "ipython",
    "version": 3
   },
   "file_extension": ".py",
   "mimetype": "text/x-python",
   "name": "python",
   "nbconvert_exporter": "python",
   "pygments_lexer": "ipython3",
   "version": "3.8.5"
  }
 },
 "nbformat": 4,
 "nbformat_minor": 4
}
